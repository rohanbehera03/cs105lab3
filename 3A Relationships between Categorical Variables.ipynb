{
 "cells": [
  {
   "cell_type": "markdown",
   "metadata": {
    "colab_type": "text",
    "id": "aXAUY7gcvHPL"
   },
   "source": [
    "# 3A Relationships between Variables\n",
    "\n",
    "So far, we have seen different ways to summarize and visualize _individual_ variables in a data set. But we have not really discussed how to summarize and visualize relationships between _multiple_ variables. This chapter is all about how to understand relationships between the columns in a `DataFrame`. The methods will be different, depending on whether the variables are categorical or quantitative."
   ]
  },
  {
   "cell_type": "markdown",
   "metadata": {
    "colab_type": "text",
    "id": "1ZtSahD8vHPM"
   },
   "source": [
    "# 3.1 Relationships between Categorical Variables\n",
    "\n",
    "In this section, we look at ways to summarize the relationship between two _categorical_ variables. To do this, we will again use the Titanic data set."
   ]
  },
  {
   "cell_type": "code",
   "execution_count": 1,
   "metadata": {
    "colab": {},
    "colab_type": "code",
    "id": "UOZuF00CvHPM"
   },
   "outputs": [],
   "source": [
    "%matplotlib inline\n",
    "import pandas as pd\n",
    "\n",
    "titanic_df = pd.read_csv(\"titanic.csv\")"
   ]
  },
  {
   "cell_type": "markdown",
   "metadata": {
    "colab_type": "text",
    "id": "LeWx-Pw9vHPP"
   },
   "source": [
    "Suppose we want to understand the relationship between where a passenger embarked and what class they were in. We can completely summarize this relationship by counting the number of passengers in each class that embarked at each location. We can create a pivot table that summarizes this information."
   ]
  },
  {
   "cell_type": "code",
   "execution_count": 2,
   "metadata": {
    "colab": {},
    "colab_type": "code",
    "id": "GUnC0FQ3vHPP"
   },
   "outputs": [
    {
     "data": {
      "text/html": [
       "<div>\n",
       "<style scoped>\n",
       "    .dataframe tbody tr th:only-of-type {\n",
       "        vertical-align: middle;\n",
       "    }\n",
       "\n",
       "    .dataframe tbody tr th {\n",
       "        vertical-align: top;\n",
       "    }\n",
       "\n",
       "    .dataframe thead th {\n",
       "        text-align: right;\n",
       "    }\n",
       "</style>\n",
       "<table border=\"1\" class=\"dataframe\">\n",
       "  <thead>\n",
       "    <tr style=\"text-align: right;\">\n",
       "      <th>pclass</th>\n",
       "      <th>1</th>\n",
       "      <th>2</th>\n",
       "      <th>3</th>\n",
       "    </tr>\n",
       "    <tr>\n",
       "      <th>embarked</th>\n",
       "      <th></th>\n",
       "      <th></th>\n",
       "      <th></th>\n",
       "    </tr>\n",
       "  </thead>\n",
       "  <tbody>\n",
       "    <tr>\n",
       "      <th>C</th>\n",
       "      <td>141</td>\n",
       "      <td>28</td>\n",
       "      <td>101</td>\n",
       "    </tr>\n",
       "    <tr>\n",
       "      <th>Q</th>\n",
       "      <td>3</td>\n",
       "      <td>7</td>\n",
       "      <td>113</td>\n",
       "    </tr>\n",
       "    <tr>\n",
       "      <th>S</th>\n",
       "      <td>177</td>\n",
       "      <td>242</td>\n",
       "      <td>495</td>\n",
       "    </tr>\n",
       "  </tbody>\n",
       "</table>\n",
       "</div>"
      ],
      "text/plain": [
       "pclass      1    2    3\n",
       "embarked               \n",
       "C         141   28  101\n",
       "Q           3    7  113\n",
       "S         177  242  495"
      ]
     },
     "execution_count": 2,
     "metadata": {},
     "output_type": "execute_result"
    }
   ],
   "source": [
    "embarked_pclass_counts = titanic_df.pivot_table(\n",
    "    index=\"embarked\", columns=\"pclass\",\n",
    "    values=\"name\",  # We can pretty much count any column, as long as there are no NaNs.\n",
    "    aggfunc=\"count\" # The count function will count the number of non-null values.\n",
    ")\n",
    "embarked_pclass_counts"
   ]
  },
  {
   "cell_type": "markdown",
   "metadata": {
    "colab_type": "text",
    "id": "0ZX2Dp0SvHPR"
   },
   "source": [
    "A pivot table that stores counts is also called a **contigency table** or a **cross-tabulation**. This type of pivot table is common enough that there is a specific function in `pandas` to calculate one, allowing you to bypass `.pivot_table`:"
   ]
  },
  {
   "cell_type": "code",
   "execution_count": 3,
   "metadata": {
    "colab": {},
    "colab_type": "code",
    "id": "p9bFnOCxvHPS"
   },
   "outputs": [
    {
     "data": {
      "text/html": [
       "<div>\n",
       "<style scoped>\n",
       "    .dataframe tbody tr th:only-of-type {\n",
       "        vertical-align: middle;\n",
       "    }\n",
       "\n",
       "    .dataframe tbody tr th {\n",
       "        vertical-align: top;\n",
       "    }\n",
       "\n",
       "    .dataframe thead th {\n",
       "        text-align: right;\n",
       "    }\n",
       "</style>\n",
       "<table border=\"1\" class=\"dataframe\">\n",
       "  <thead>\n",
       "    <tr style=\"text-align: right;\">\n",
       "      <th>pclass</th>\n",
       "      <th>1</th>\n",
       "      <th>2</th>\n",
       "      <th>3</th>\n",
       "    </tr>\n",
       "    <tr>\n",
       "      <th>embarked</th>\n",
       "      <th></th>\n",
       "      <th></th>\n",
       "      <th></th>\n",
       "    </tr>\n",
       "  </thead>\n",
       "  <tbody>\n",
       "    <tr>\n",
       "      <th>C</th>\n",
       "      <td>141</td>\n",
       "      <td>28</td>\n",
       "      <td>101</td>\n",
       "    </tr>\n",
       "    <tr>\n",
       "      <th>Q</th>\n",
       "      <td>3</td>\n",
       "      <td>7</td>\n",
       "      <td>113</td>\n",
       "    </tr>\n",
       "    <tr>\n",
       "      <th>S</th>\n",
       "      <td>177</td>\n",
       "      <td>242</td>\n",
       "      <td>495</td>\n",
       "    </tr>\n",
       "  </tbody>\n",
       "</table>\n",
       "</div>"
      ],
      "text/plain": [
       "pclass      1    2    3\n",
       "embarked               \n",
       "C         141   28  101\n",
       "Q           3    7  113\n",
       "S         177  242  495"
      ]
     },
     "execution_count": 3,
     "metadata": {},
     "output_type": "execute_result"
    }
   ],
   "source": [
    "counts = pd.crosstab(titanic_df.embarked, titanic_df.pclass)\n",
    "counts"
   ]
  },
  {
   "cell_type": "markdown",
   "metadata": {
    "colab_type": "text",
    "id": "YqFj3yxovHPU"
   },
   "source": [
    "## Joint Distributions"
   ]
  },
  {
   "cell_type": "markdown",
   "metadata": {
    "colab_type": "text",
    "id": "KVQcukfpvHPU"
   },
   "source": [
    "It is common to normalize the counts in a table so that they add up to 1. These proportions represent the **joint distribution** of the two variables.\n",
    "\n",
    "To calculate the joint distribution, we need to divide the table of counts above by the total count. To find the total count, we call `.sum()` twice; the first call gives us the sum of each column, and the second call adds those numbers together."
   ]
  },
  {
   "cell_type": "code",
   "execution_count": 4,
   "metadata": {
    "colab": {},
    "colab_type": "code",
    "id": "OJtLvC7jvHPV"
   },
   "outputs": [
    {
     "name": "stdout",
     "output_type": "stream",
     "text": [
      "1307\n"
     ]
    },
    {
     "data": {
      "text/html": [
       "<div>\n",
       "<style scoped>\n",
       "    .dataframe tbody tr th:only-of-type {\n",
       "        vertical-align: middle;\n",
       "    }\n",
       "\n",
       "    .dataframe tbody tr th {\n",
       "        vertical-align: top;\n",
       "    }\n",
       "\n",
       "    .dataframe thead th {\n",
       "        text-align: right;\n",
       "    }\n",
       "</style>\n",
       "<table border=\"1\" class=\"dataframe\">\n",
       "  <thead>\n",
       "    <tr style=\"text-align: right;\">\n",
       "      <th>pclass</th>\n",
       "      <th>1</th>\n",
       "      <th>2</th>\n",
       "      <th>3</th>\n",
       "    </tr>\n",
       "    <tr>\n",
       "      <th>embarked</th>\n",
       "      <th></th>\n",
       "      <th></th>\n",
       "      <th></th>\n",
       "    </tr>\n",
       "  </thead>\n",
       "  <tbody>\n",
       "    <tr>\n",
       "      <th>C</th>\n",
       "      <td>0.107881</td>\n",
       "      <td>0.021423</td>\n",
       "      <td>0.077276</td>\n",
       "    </tr>\n",
       "    <tr>\n",
       "      <th>Q</th>\n",
       "      <td>0.002295</td>\n",
       "      <td>0.005356</td>\n",
       "      <td>0.086458</td>\n",
       "    </tr>\n",
       "    <tr>\n",
       "      <th>S</th>\n",
       "      <td>0.135425</td>\n",
       "      <td>0.185157</td>\n",
       "      <td>0.378730</td>\n",
       "    </tr>\n",
       "  </tbody>\n",
       "</table>\n",
       "</div>"
      ],
      "text/plain": [
       "pclass           1         2         3\n",
       "embarked                              \n",
       "C         0.107881  0.021423  0.077276\n",
       "Q         0.002295  0.005356  0.086458\n",
       "S         0.135425  0.185157  0.378730"
      ]
     },
     "execution_count": 4,
     "metadata": {},
     "output_type": "execute_result"
    }
   ],
   "source": [
    "print(counts.sum().sum())\n",
    "joint = counts / counts.sum().sum()\n",
    "joint"
   ]
  },
  {
   "cell_type": "markdown",
   "metadata": {
    "colab_type": "text",
    "id": "8h1uX_uevHPX"
   },
   "source": [
    "Note that this is yet another example of broadcasting. When we divided the `DataFrame` `counts` by the number 1307, the division was applied elementwise, producing another `DataFrame`.\n",
    "\n",
    "Each cell in this `DataFrame` tells us a joint proportion. For example, the cell in the bottom right tells us the proportion of all passengers that embarked at Southampton and were in 3rd class. We notate this joint proportion as follows:\n",
    "\n",
    "$$ P(\\text{embarked at Southampton and in 3rd class}) = .379. $$\n",
    "\n",
    "The joint distribution above could also have been obtained by specifying `normalize=True` when the contingency table was first created:"
   ]
  },
  {
   "cell_type": "code",
   "execution_count": 5,
   "metadata": {
    "colab": {},
    "colab_type": "code",
    "id": "6vwXBBzcvHPY"
   },
   "outputs": [
    {
     "data": {
      "text/html": [
       "<div>\n",
       "<style scoped>\n",
       "    .dataframe tbody tr th:only-of-type {\n",
       "        vertical-align: middle;\n",
       "    }\n",
       "\n",
       "    .dataframe tbody tr th {\n",
       "        vertical-align: top;\n",
       "    }\n",
       "\n",
       "    .dataframe thead th {\n",
       "        text-align: right;\n",
       "    }\n",
       "</style>\n",
       "<table border=\"1\" class=\"dataframe\">\n",
       "  <thead>\n",
       "    <tr style=\"text-align: right;\">\n",
       "      <th>pclass</th>\n",
       "      <th>1</th>\n",
       "      <th>2</th>\n",
       "      <th>3</th>\n",
       "    </tr>\n",
       "    <tr>\n",
       "      <th>embarked</th>\n",
       "      <th></th>\n",
       "      <th></th>\n",
       "      <th></th>\n",
       "    </tr>\n",
       "  </thead>\n",
       "  <tbody>\n",
       "    <tr>\n",
       "      <th>C</th>\n",
       "      <td>0.107881</td>\n",
       "      <td>0.021423</td>\n",
       "      <td>0.077276</td>\n",
       "    </tr>\n",
       "    <tr>\n",
       "      <th>Q</th>\n",
       "      <td>0.002295</td>\n",
       "      <td>0.005356</td>\n",
       "      <td>0.086458</td>\n",
       "    </tr>\n",
       "    <tr>\n",
       "      <th>S</th>\n",
       "      <td>0.135425</td>\n",
       "      <td>0.185157</td>\n",
       "      <td>0.378730</td>\n",
       "    </tr>\n",
       "  </tbody>\n",
       "</table>\n",
       "</div>"
      ],
      "text/plain": [
       "pclass           1         2         3\n",
       "embarked                              \n",
       "C         0.107881  0.021423  0.077276\n",
       "Q         0.002295  0.005356  0.086458\n",
       "S         0.135425  0.185157  0.378730"
      ]
     },
     "execution_count": 5,
     "metadata": {},
     "output_type": "execute_result"
    }
   ],
   "source": [
    "pd.crosstab(titanic_df.embarked, titanic_df.pclass,\n",
    "            normalize=True)"
   ]
  },
  {
   "cell_type": "markdown",
   "metadata": {
    "colab_type": "text",
    "id": "hSTvw26fvHPf"
   },
   "source": [
    "The above joint distribution is not, strictly speaking, a contingency table. A contingency table is a table of all counts, while the above table is a table of proportions."
   ]
  },
  {
   "cell_type": "markdown",
   "metadata": {
    "colab_type": "text",
    "id": "BNijT5ehvHPg"
   },
   "source": [
    "## Marginal Distributions\n",
    "\n",
    "The **marginal distribution** of a variable is simply the distribution of that variable, ignoring the other variables. To calculate the marginal distribution from a joint distribution of two variables, we sum the rows or the columns of the joint distribution.\n",
    "\n",
    "For example, to calculate the marginal distribution of `embarked`, we have to sum the joint distribution over the columns---in other words, _roll-up_ or _marginalize over_ the `pclass` variable:"
   ]
  },
  {
   "cell_type": "code",
   "execution_count": 6,
   "metadata": {
    "colab": {},
    "colab_type": "code",
    "id": "iHNpX7BavHPg"
   },
   "outputs": [
    {
     "data": {
      "text/plain": [
       "embarked\n",
       "C    0.206580\n",
       "Q    0.094109\n",
       "S    0.699311\n",
       "dtype: float64"
      ]
     },
     "execution_count": 6,
     "metadata": {},
     "output_type": "execute_result"
    }
   ],
   "source": [
    "joint.sum(axis=1)"
   ]
  },
  {
   "cell_type": "markdown",
   "metadata": {
    "colab_type": "text",
    "id": "PTnamErdvHPj"
   },
   "source": [
    "We can check this answer by calculating the distribution of `embarked` directly from the original data, ignoring `pclass` entirely."
   ]
  },
  {
   "cell_type": "code",
   "execution_count": 7,
   "metadata": {
    "colab": {},
    "colab_type": "code",
    "id": "dQoJhgFMvHPj"
   },
   "outputs": [
    {
     "data": {
      "text/plain": [
       "embarked\n",
       "C    0.206580\n",
       "Q    0.094109\n",
       "S    0.699311\n",
       "Name: name, dtype: float64"
      ]
     },
     "execution_count": 7,
     "metadata": {},
     "output_type": "execute_result"
    }
   ],
   "source": [
    "embarked_counts = titanic_df.groupby(\"embarked\")[\"name\"].count()\n",
    "embarked_counts / embarked_counts.sum()"
   ]
  },
  {
   "cell_type": "markdown",
   "metadata": {
    "colab_type": "text",
    "id": "HoG5Efr8vHPl"
   },
   "source": [
    "The numbers match!\n",
    "\n",
    "Likewise, we calculate the marginal distribution of `pclass` by summing the joint distribution over the rows---in other words, by _rolling-up_ or _marginalizing over_ the `embarked` variable:"
   ]
  },
  {
   "cell_type": "code",
   "execution_count": 8,
   "metadata": {
    "colab": {},
    "colab_type": "code",
    "id": "93RtUmklvHPl"
   },
   "outputs": [
    {
     "data": {
      "text/plain": [
       "pclass\n",
       "1    0.245601\n",
       "2    0.211936\n",
       "3    0.542464\n",
       "dtype: float64"
      ]
     },
     "execution_count": 8,
     "metadata": {},
     "output_type": "execute_result"
    }
   ],
   "source": [
    "joint.sum(axis=0)"
   ]
  },
  {
   "cell_type": "markdown",
   "metadata": {
    "colab_type": "text",
    "id": "lmEZPSLMvHPo"
   },
   "source": [
    "So given the joint distribution of two categorical variables, there are two marginal distributions: one for each of the variables. These marginal distributions are obtained by summing the joint distribution table over the rows and over the columns.\n",
    "\n",
    "The _marginal distribution_ is so-named because these row and column totals would typically be included alongside the joint distribution, in the _margins_ of the table. A contingency table with the marginal distributions included can be obtained by specifying `margins=True` in `pd.crosstab`:"
   ]
  },
  {
   "cell_type": "code",
   "execution_count": 9,
   "metadata": {
    "colab": {},
    "colab_type": "code",
    "id": "5oC45k2CvHPo"
   },
   "outputs": [
    {
     "data": {
      "text/html": [
       "<div>\n",
       "<style scoped>\n",
       "    .dataframe tbody tr th:only-of-type {\n",
       "        vertical-align: middle;\n",
       "    }\n",
       "\n",
       "    .dataframe tbody tr th {\n",
       "        vertical-align: top;\n",
       "    }\n",
       "\n",
       "    .dataframe thead th {\n",
       "        text-align: right;\n",
       "    }\n",
       "</style>\n",
       "<table border=\"1\" class=\"dataframe\">\n",
       "  <thead>\n",
       "    <tr style=\"text-align: right;\">\n",
       "      <th>pclass</th>\n",
       "      <th>1</th>\n",
       "      <th>2</th>\n",
       "      <th>3</th>\n",
       "      <th>All</th>\n",
       "    </tr>\n",
       "    <tr>\n",
       "      <th>embarked</th>\n",
       "      <th></th>\n",
       "      <th></th>\n",
       "      <th></th>\n",
       "      <th></th>\n",
       "    </tr>\n",
       "  </thead>\n",
       "  <tbody>\n",
       "    <tr>\n",
       "      <th>C</th>\n",
       "      <td>0.107881</td>\n",
       "      <td>0.021423</td>\n",
       "      <td>0.077276</td>\n",
       "      <td>0.206580</td>\n",
       "    </tr>\n",
       "    <tr>\n",
       "      <th>Q</th>\n",
       "      <td>0.002295</td>\n",
       "      <td>0.005356</td>\n",
       "      <td>0.086458</td>\n",
       "      <td>0.094109</td>\n",
       "    </tr>\n",
       "    <tr>\n",
       "      <th>S</th>\n",
       "      <td>0.135425</td>\n",
       "      <td>0.185157</td>\n",
       "      <td>0.378730</td>\n",
       "      <td>0.699311</td>\n",
       "    </tr>\n",
       "    <tr>\n",
       "      <th>All</th>\n",
       "      <td>0.245601</td>\n",
       "      <td>0.211936</td>\n",
       "      <td>0.542464</td>\n",
       "      <td>1.000000</td>\n",
       "    </tr>\n",
       "  </tbody>\n",
       "</table>\n",
       "</div>"
      ],
      "text/plain": [
       "pclass           1         2         3       All\n",
       "embarked                                        \n",
       "C         0.107881  0.021423  0.077276  0.206580\n",
       "Q         0.002295  0.005356  0.086458  0.094109\n",
       "S         0.135425  0.185157  0.378730  0.699311\n",
       "All       0.245601  0.211936  0.542464  1.000000"
      ]
     },
     "execution_count": 9,
     "metadata": {},
     "output_type": "execute_result"
    }
   ],
   "source": [
    "pd.crosstab(titanic_df.embarked, titanic_df.pclass,\n",
    "            normalize=True, margins=True)"
   ]
  },
  {
   "cell_type": "markdown",
   "metadata": {
    "colab_type": "text",
    "id": "JqflK8AVvHPr"
   },
   "source": [
    "## Conditional Distributions\n",
    "\n",
    "The **conditional distribution** tells us about the distribution of one variable, _conditional on_ the value of another. For example, we might want to know the proportion of 3rd class passengers that embarked at each location. In other words, what is the distribution of where a passenger embarked, _conditional on_ being in 3rd class?\n",
    "\n",
    "If we go back to the contingency table:"
   ]
  },
  {
   "cell_type": "code",
   "execution_count": 10,
   "metadata": {
    "colab": {},
    "colab_type": "code",
    "id": "jc-IvXZEvHPs"
   },
   "outputs": [
    {
     "data": {
      "text/html": [
       "<div>\n",
       "<style scoped>\n",
       "    .dataframe tbody tr th:only-of-type {\n",
       "        vertical-align: middle;\n",
       "    }\n",
       "\n",
       "    .dataframe tbody tr th {\n",
       "        vertical-align: top;\n",
       "    }\n",
       "\n",
       "    .dataframe thead th {\n",
       "        text-align: right;\n",
       "    }\n",
       "</style>\n",
       "<table border=\"1\" class=\"dataframe\">\n",
       "  <thead>\n",
       "    <tr style=\"text-align: right;\">\n",
       "      <th>pclass</th>\n",
       "      <th>1</th>\n",
       "      <th>2</th>\n",
       "      <th>3</th>\n",
       "    </tr>\n",
       "    <tr>\n",
       "      <th>embarked</th>\n",
       "      <th></th>\n",
       "      <th></th>\n",
       "      <th></th>\n",
       "    </tr>\n",
       "  </thead>\n",
       "  <tbody>\n",
       "    <tr>\n",
       "      <th>C</th>\n",
       "      <td>141</td>\n",
       "      <td>28</td>\n",
       "      <td>101</td>\n",
       "    </tr>\n",
       "    <tr>\n",
       "      <th>Q</th>\n",
       "      <td>3</td>\n",
       "      <td>7</td>\n",
       "      <td>113</td>\n",
       "    </tr>\n",
       "    <tr>\n",
       "      <th>S</th>\n",
       "      <td>177</td>\n",
       "      <td>242</td>\n",
       "      <td>495</td>\n",
       "    </tr>\n",
       "  </tbody>\n",
       "</table>\n",
       "</div>"
      ],
      "text/plain": [
       "pclass      1    2    3\n",
       "embarked               \n",
       "C         141   28  101\n",
       "Q           3    7  113\n",
       "S         177  242  495"
      ]
     },
     "execution_count": 10,
     "metadata": {},
     "output_type": "execute_result"
    }
   ],
   "source": [
    "embarked_pclass_counts"
   ]
  },
  {
   "cell_type": "markdown",
   "metadata": {
    "colab_type": "text",
    "id": "3cu20gJIvHPu"
   },
   "source": [
    "there were $101 + 113 + 495 = 709$ passengers in 3rd class, of whom \n",
    "\n",
    "- $101 / 709 = .142$ were in 1st class,\n",
    "- $113 / 709 = .159$ were in 2nd class, and\n",
    "- $495 / 709 = .698$ were in 3rd class.\n",
    "\n",
    "We can calculate these proportions in code by dividing the `pclass=3` column by its sum:"
   ]
  },
  {
   "cell_type": "code",
   "execution_count": 11,
   "metadata": {
    "colab": {},
    "colab_type": "code",
    "id": "8UudSlXcvHPu"
   },
   "outputs": [
    {
     "data": {
      "text/plain": [
       "embarked\n",
       "C    0.142454\n",
       "Q    0.159379\n",
       "S    0.698166\n",
       "Name: 3, dtype: float64"
      ]
     },
     "execution_count": 11,
     "metadata": {},
     "output_type": "execute_result"
    }
   ],
   "source": [
    "embarked_pclass_counts[3] / embarked_pclass_counts[3].sum()"
   ]
  },
  {
   "cell_type": "markdown",
   "metadata": {
    "colab_type": "text",
    "id": "to2bCfI-vHPw"
   },
   "source": [
    "Notice that these three proportions add up to 1, making this a proper distribution.\n",
    "\n",
    "This conditional distribution helps us answer questions such as, \"What proportion of 3rd class passengers embarked at Southampton?\" We notate this conditional proportion as follows:\n",
    "\n",
    "$$ P\\big(\\textrm{embarked at Southampton}\\ \\big|\\ \\textrm{in 3rd class}\\big) = 0.698. $$\n",
    "\n",
    "The pipe $\\big|$ is read \"given\". So we are interested in the proportion of passengers who embarked at Southampton, _given_ that they were in 3rd class.\n",
    "\n",
    "We could have also calculated this conditional distribution from the joint distribution (i.e., proportions instead of counts):"
   ]
  },
  {
   "cell_type": "code",
   "execution_count": 12,
   "metadata": {
    "colab": {},
    "colab_type": "code",
    "id": "E8zc4kKcvHPw"
   },
   "outputs": [
    {
     "data": {
      "text/plain": [
       "embarked\n",
       "C    0.142454\n",
       "Q    0.159379\n",
       "S    0.698166\n",
       "Name: 3, dtype: float64"
      ]
     },
     "execution_count": 12,
     "metadata": {},
     "output_type": "execute_result"
    }
   ],
   "source": [
    "joint[3] / joint[3].sum()"
   ]
  },
  {
   "cell_type": "markdown",
   "metadata": {
    "colab_type": "text",
    "id": "Sco6uMZBvHPz"
   },
   "source": [
    "We have just calculated _one_ of the conditional distributions of `embarked`: the distribution conditional on being in 3rd class. There are two more conditional distributions of `embarked`: \n",
    "\n",
    "- the distribution conditional on being in 1st class \n",
    "- the distribution conditional on being in 2nd class\n",
    "\n",
    "It is common to report _all_ of the conditional distributions of one variable given another variable.\n",
    "\n",
    "Of course, it is straightforward to calculate these conditional distributions manually:"
   ]
  },
  {
   "cell_type": "code",
   "execution_count": 13,
   "metadata": {
    "colab": {},
    "colab_type": "code",
    "id": "xVuldcjnvHPz"
   },
   "outputs": [
    {
     "data": {
      "text/plain": [
       "embarked\n",
       "C    0.439252\n",
       "Q    0.009346\n",
       "S    0.551402\n",
       "Name: 1, dtype: float64"
      ]
     },
     "execution_count": 13,
     "metadata": {},
     "output_type": "execute_result"
    }
   ],
   "source": [
    "embarked_pclass_counts[1] / embarked_pclass_counts[1].sum()"
   ]
  },
  {
   "cell_type": "code",
   "execution_count": 14,
   "metadata": {
    "colab": {},
    "colab_type": "code",
    "id": "YQIoCkvQvHP1"
   },
   "outputs": [
    {
     "data": {
      "text/plain": [
       "embarked\n",
       "C    0.101083\n",
       "Q    0.025271\n",
       "S    0.873646\n",
       "Name: 2, dtype: float64"
      ]
     },
     "execution_count": 14,
     "metadata": {},
     "output_type": "execute_result"
    }
   ],
   "source": [
    "embarked_pclass_counts[2] / embarked_pclass_counts[2].sum()"
   ]
  },
  {
   "cell_type": "markdown",
   "metadata": {
    "colab_type": "text",
    "id": "Uu-iQ_cdvHP4"
   },
   "source": [
    "But there is a nifty trick for calculating all three conditional distributions at once. By summing the counts over `embarked`, we obtain the total number of people in each `pclass`:"
   ]
  },
  {
   "cell_type": "code",
   "execution_count": 15,
   "metadata": {
    "colab": {},
    "colab_type": "code",
    "id": "aD5nFem7vHP4"
   },
   "outputs": [
    {
     "data": {
      "text/plain": [
       "pclass\n",
       "1    321\n",
       "2    277\n",
       "3    709\n",
       "dtype: int64"
      ]
     },
     "execution_count": 15,
     "metadata": {},
     "output_type": "execute_result"
    }
   ],
   "source": [
    "pclass_counts = embarked_pclass_counts.sum(axis=0)\n",
    "pclass_counts"
   ]
  },
  {
   "cell_type": "markdown",
   "metadata": {
    "colab_type": "text",
    "id": "bvk0p-zFvHP7"
   },
   "source": [
    "This is exactly what we need to divide each column of `embarked_pclass_counts` by:"
   ]
  },
  {
   "cell_type": "code",
   "execution_count": 16,
   "metadata": {
    "colab": {},
    "colab_type": "code",
    "id": "NWLCymXpvHP7"
   },
   "outputs": [
    {
     "data": {
      "text/html": [
       "<div>\n",
       "<style scoped>\n",
       "    .dataframe tbody tr th:only-of-type {\n",
       "        vertical-align: middle;\n",
       "    }\n",
       "\n",
       "    .dataframe tbody tr th {\n",
       "        vertical-align: top;\n",
       "    }\n",
       "\n",
       "    .dataframe thead th {\n",
       "        text-align: right;\n",
       "    }\n",
       "</style>\n",
       "<table border=\"1\" class=\"dataframe\">\n",
       "  <thead>\n",
       "    <tr style=\"text-align: right;\">\n",
       "      <th>pclass</th>\n",
       "      <th>1</th>\n",
       "      <th>2</th>\n",
       "      <th>3</th>\n",
       "    </tr>\n",
       "    <tr>\n",
       "      <th>embarked</th>\n",
       "      <th></th>\n",
       "      <th></th>\n",
       "      <th></th>\n",
       "    </tr>\n",
       "  </thead>\n",
       "  <tbody>\n",
       "    <tr>\n",
       "      <th>C</th>\n",
       "      <td>0.439252</td>\n",
       "      <td>0.101083</td>\n",
       "      <td>0.142454</td>\n",
       "    </tr>\n",
       "    <tr>\n",
       "      <th>Q</th>\n",
       "      <td>0.009346</td>\n",
       "      <td>0.025271</td>\n",
       "      <td>0.159379</td>\n",
       "    </tr>\n",
       "    <tr>\n",
       "      <th>S</th>\n",
       "      <td>0.551402</td>\n",
       "      <td>0.873646</td>\n",
       "      <td>0.698166</td>\n",
       "    </tr>\n",
       "  </tbody>\n",
       "</table>\n",
       "</div>"
      ],
      "text/plain": [
       "pclass           1         2         3\n",
       "embarked                              \n",
       "C         0.439252  0.101083  0.142454\n",
       "Q         0.009346  0.025271  0.159379\n",
       "S         0.551402  0.873646  0.698166"
      ]
     },
     "execution_count": 16,
     "metadata": {},
     "output_type": "execute_result"
    }
   ],
   "source": [
    "embarked_given_pclass = embarked_pclass_counts.divide(pclass_counts, axis=1)\n",
    "embarked_given_pclass"
   ]
  },
  {
   "cell_type": "markdown",
   "metadata": {
    "colab_type": "text",
    "id": "Ct19TjtbvHP-"
   },
   "source": [
    "(This is yet another example of _broadcasting_, since we are dividing a `DataFrame` by a `Series`.)\n",
    "\n",
    "Compare each column with the numbers we obtained earlier. Notice also that each column sums to 1, a reminder that each column represents a separate distribution.\n",
    "\n",
    "When comparing numbers across distributions, it is important to be careful. For example, the 87.4% and the 69.8% in the \"Southampton\" row represent percentages of different populations. Just because 87.4% is higher than 69.8% does not mean that more 2nd class passengers boarded at Southampton than 3rd class passengers. In fact, if we go back to the original contingency table, we see that more 3rd class passengers actually boarded at Southampton than 2nd class passengers!"
   ]
  },
  {
   "cell_type": "markdown",
   "metadata": {
    "colab_type": "text",
    "id": "e92fAgYdvHP-"
   },
   "source": [
    "There is also another set of conditional distributions for these two variables: the distribution of class, conditional on where they embarked. To calculate these conditional distributions, we instead divide `embarked_pclass_counts` by the sum of each row:"
   ]
  },
  {
   "cell_type": "code",
   "execution_count": 17,
   "metadata": {
    "colab": {},
    "colab_type": "code",
    "id": "Vb6NErKdvHP_"
   },
   "outputs": [
    {
     "data": {
      "text/html": [
       "<div>\n",
       "<style scoped>\n",
       "    .dataframe tbody tr th:only-of-type {\n",
       "        vertical-align: middle;\n",
       "    }\n",
       "\n",
       "    .dataframe tbody tr th {\n",
       "        vertical-align: top;\n",
       "    }\n",
       "\n",
       "    .dataframe thead th {\n",
       "        text-align: right;\n",
       "    }\n",
       "</style>\n",
       "<table border=\"1\" class=\"dataframe\">\n",
       "  <thead>\n",
       "    <tr style=\"text-align: right;\">\n",
       "      <th>pclass</th>\n",
       "      <th>1</th>\n",
       "      <th>2</th>\n",
       "      <th>3</th>\n",
       "    </tr>\n",
       "    <tr>\n",
       "      <th>embarked</th>\n",
       "      <th></th>\n",
       "      <th></th>\n",
       "      <th></th>\n",
       "    </tr>\n",
       "  </thead>\n",
       "  <tbody>\n",
       "    <tr>\n",
       "      <th>C</th>\n",
       "      <td>0.522222</td>\n",
       "      <td>0.103704</td>\n",
       "      <td>0.374074</td>\n",
       "    </tr>\n",
       "    <tr>\n",
       "      <th>Q</th>\n",
       "      <td>0.024390</td>\n",
       "      <td>0.056911</td>\n",
       "      <td>0.918699</td>\n",
       "    </tr>\n",
       "    <tr>\n",
       "      <th>S</th>\n",
       "      <td>0.193654</td>\n",
       "      <td>0.264770</td>\n",
       "      <td>0.541575</td>\n",
       "    </tr>\n",
       "  </tbody>\n",
       "</table>\n",
       "</div>"
      ],
      "text/plain": [
       "pclass           1         2         3\n",
       "embarked                              \n",
       "C         0.522222  0.103704  0.374074\n",
       "Q         0.024390  0.056911  0.918699\n",
       "S         0.193654  0.264770  0.541575"
      ]
     },
     "execution_count": 17,
     "metadata": {},
     "output_type": "execute_result"
    }
   ],
   "source": [
    "embarked_counts = embarked_pclass_counts.sum(axis=1)\n",
    "pclass_given_embarked = embarked_pclass_counts.divide(embarked_counts, axis=0)\n",
    "pclass_given_embarked"
   ]
  },
  {
   "cell_type": "markdown",
   "metadata": {
    "colab_type": "text",
    "id": "7NZzo4javHQA"
   },
   "source": [
    "These conditional distributions answer questions like, \"What proportion of Southampton passengers were in 3rd class?\" \n",
    "\n",
    "Notice that these proportions are _not_ the same as the proportions for the other set of conditional distributions. That is because the two questions below are fundamentally different:\n",
    "\n",
    "_Question 1._ What proportion of 3rd class passengers embarked at Southampton?\n",
    "\n",
    "$$P\\big(\\textrm{embarked at Southampton}\\ \\big|\\ \\textrm{in 3rd class}\\big) = \\frac{\\text{# passengers who embarked at Southampton and in 3rd class}}{\\text{# passengers who in 3rd class}}$$\n",
    "\n",
    "_Question 2._ What proportion of Southampton passengers were in 3rd class? \n",
    "\n",
    "$$P\\big(\\textrm{in 3rd class}\\ \\big|\\ \\textrm{embarked at Southampton}\\big) = \\frac{\\text{# passengers who embarked at Southampton and in 3rd class}}{\\text{# passengers who embarked at Southampton}} \\\\ $$\n",
    "\n",
    "\n",
    "\n",
    "In the first case, the reference population is all passengers who embarked at Southampton. In the second case, the reference population is all passengers who were in 3rd class. The numerators may be the same, but the denominators are different. In general, the conditional distributions of $X$ given $Y$ are _not_ the same as the conditional distributions of $Y$ given $X$. \n",
    "\n",
    "If we rephrase the question slightly, we get yet another answer:\n",
    "\n",
    "_Question 3._ What proportion of passengers embarked at Southampton _and_ were in 3rd class?\n",
    "\n",
    "$$P(\\text{embarked at Southampton and in 3rd class}) = \\frac{\\text{# passengers who embarked at Southampton and in 3rd class}}{\\text{# passengers (total)}}$$\n",
    "\n",
    "The reference population here is all passengers. This is the proportion that one would get from the joint distribution.\n",
    "\n",
    "It is important to pay attention to the wording of the question, to determine whether a joint distribution or a conditional distribution is called for---and, if the latter, which of the two conditional distributions is appropriate."
   ]
  },
  {
   "cell_type": "markdown",
   "metadata": {
    "colab_type": "text",
    "id": "0tieyQNOvHQB"
   },
   "source": [
    "## Visualization\n",
    "\n",
    "How do we visualize the joint and conditional distributions of two categorical variables? \n",
    "\n",
    "To visualize a joint distribution, we need to be able to represent three dimensions: two dimensions for the two categorical variables and a third dimension for the proportions. Although one option is a 3D graph, humans are not good at judging the sizes of 3D objects printed on a page. For this reason, **heat maps**, which use a color scale to represent the third dimension, are usually preferred. \n",
    "\n",
    "Unfortunately, heat maps are still not easy to create in `pandas`. We use the `seaborn` library to make a heat map:"
   ]
  },
  {
   "cell_type": "code",
   "execution_count": 18,
   "metadata": {
    "colab": {},
    "colab_type": "code",
    "id": "ar1GabnVvHQB"
   },
   "outputs": [
    {
     "data": {
      "text/plain": [
       "<AxesSubplot:xlabel='pclass', ylabel='embarked'>"
      ]
     },
     "execution_count": 18,
     "metadata": {},
     "output_type": "execute_result"
    },
    {
     "data": {
      "image/png": "[encoded data removed]",
      "text/plain": [
       "<Figure size 432x288 with 2 Axes>"
      ]
     },
     "metadata": {
      "needs_background": "light"
     },
     "output_type": "display_data"
    }
   ],
   "source": [
    "import seaborn as sns\n",
    "\n",
    "sns.heatmap(joint)"
   ]
  },
  {
   "cell_type": "markdown",
   "metadata": {
    "colab_type": "text",
    "id": "mo01UbumvHQD"
   },
   "source": [
    "A heat map encourages comparison across cells. So we see that 3rd class passengers who embarked at Southampton were by far the most common.\n",
    "\n",
    "Although a heat map can also be used to visualize conditional distributions, it is not ideal because it does not tell us which variable we are conditioning on, and it is difficult to judge visually which dimension sums to 1. A stacked bar graph is better because it visually shows values summing to 1.\n",
    "\n",
    "To make a stacked bar graph, we simply specify `stacked=True` in `.plot.bar()`, to get the bars to show up on top of one another, instead of side-by-side:"
   ]
  },
  {
   "cell_type": "code",
   "execution_count": 19,
   "metadata": {
    "colab": {},
    "colab_type": "code",
    "id": "NxyjMhhlvHQD"
   },
   "outputs": [
    {
     "data": {
      "text/plain": [
       "<AxesSubplot:xlabel='embarked'>"
      ]
     },
     "execution_count": 19,
     "metadata": {},
     "output_type": "execute_result"
    },
    {
     "data": {
      "image/png": "[encoded data removed]",
      "text/plain": [
       "<Figure size 432x288 with 1 Axes>"
      ]
     },
     "metadata": {
      "needs_background": "light"
     },
     "output_type": "display_data"
    }
   ],
   "source": [
    "pclass_given_embarked.plot.bar(stacked=True)"
   ]
  },
  {
   "cell_type": "markdown",
   "metadata": {
    "colab_type": "text",
    "id": "O6t_255rvHQF"
   },
   "source": [
    "However, the same code does not work on the other set of conditional distributions:"
   ]
  },
  {
   "cell_type": "code",
   "execution_count": 20,
   "metadata": {
    "colab": {},
    "colab_type": "code",
    "id": "9Pjx85ZMvHQF"
   },
   "outputs": [
    {
     "data": {
      "text/plain": [
       "<AxesSubplot:xlabel='embarked'>"
      ]
     },
     "execution_count": 20,
     "metadata": {},
     "output_type": "execute_result"
    },
    {
     "data": {
      "image/png": "[encoded data removed]",
      "text/plain": [
       "<Figure size 432x288 with 1 Axes>"
      ]
     },
     "metadata": {
      "needs_background": "light"
     },
     "output_type": "display_data"
    }
   ],
   "source": [
    "embarked_given_pclass.plot.bar(stacked=True)"
   ]
  },
  {
   "cell_type": "markdown",
   "metadata": {
    "colab_type": "text",
    "id": "KHbWAohBvHQH"
   },
   "source": [
    "What went wrong? Recall that `.plot.bar()` automatically plots the (row) index of the `DataFrame` on the $x$-axis. To plot the distribution of `embarked` conditional on `pclass`, we need `pclass` to be on the $x$-axis, but "
   ]
  },
  {
   "cell_type": "code",
   "execution_count": 21,
   "metadata": {
    "colab": {},
    "colab_type": "code",
    "id": "-4VcFKI7vHQI"
   },
   "outputs": [
    {
     "data": {
      "text/html": [
       "<div>\n",
       "<style scoped>\n",
       "    .dataframe tbody tr th:only-of-type {\n",
       "        vertical-align: middle;\n",
       "    }\n",
       "\n",
       "    .dataframe tbody tr th {\n",
       "        vertical-align: top;\n",
       "    }\n",
       "\n",
       "    .dataframe thead th {\n",
       "        text-align: right;\n",
       "    }\n",
       "</style>\n",
       "<table border=\"1\" class=\"dataframe\">\n",
       "  <thead>\n",
       "    <tr style=\"text-align: right;\">\n",
       "      <th>pclass</th>\n",
       "      <th>1</th>\n",
       "      <th>2</th>\n",
       "      <th>3</th>\n",
       "    </tr>\n",
       "    <tr>\n",
       "      <th>embarked</th>\n",
       "      <th></th>\n",
       "      <th></th>\n",
       "      <th></th>\n",
       "    </tr>\n",
       "  </thead>\n",
       "  <tbody>\n",
       "    <tr>\n",
       "      <th>C</th>\n",
       "      <td>0.439252</td>\n",
       "      <td>0.101083</td>\n",
       "      <td>0.142454</td>\n",
       "    </tr>\n",
       "    <tr>\n",
       "      <th>Q</th>\n",
       "      <td>0.009346</td>\n",
       "      <td>0.025271</td>\n",
       "      <td>0.159379</td>\n",
       "    </tr>\n",
       "    <tr>\n",
       "      <th>S</th>\n",
       "      <td>0.551402</td>\n",
       "      <td>0.873646</td>\n",
       "      <td>0.698166</td>\n",
       "    </tr>\n",
       "  </tbody>\n",
       "</table>\n",
       "</div>"
      ],
      "text/plain": [
       "pclass           1         2         3\n",
       "embarked                              \n",
       "C         0.439252  0.101083  0.142454\n",
       "Q         0.009346  0.025271  0.159379\n",
       "S         0.551402  0.873646  0.698166"
      ]
     },
     "execution_count": 21,
     "metadata": {},
     "output_type": "execute_result"
    }
   ],
   "source": [
    "embarked_given_pclass"
   ]
  },
  {
   "cell_type": "markdown",
   "metadata": {
    "colab_type": "text",
    "id": "0OM4x3E9vHQK"
   },
   "source": [
    "has `embarked` as the index. To make `pclass` the index, we can **transpose** this `DataFrame` so that the rows become columns and the columns become rows. The syntax for transposing a `DataFrame` is `.T`, which is inspired by the notation for transposing a matrix in linear algebra."
   ]
  },
  {
   "cell_type": "code",
   "execution_count": 22,
   "metadata": {
    "colab": {},
    "colab_type": "code",
    "id": "T165Ejt8vHQL"
   },
   "outputs": [
    {
     "data": {
      "text/html": [
       "<div>\n",
       "<style scoped>\n",
       "    .dataframe tbody tr th:only-of-type {\n",
       "        vertical-align: middle;\n",
       "    }\n",
       "\n",
       "    .dataframe tbody tr th {\n",
       "        vertical-align: top;\n",
       "    }\n",
       "\n",
       "    .dataframe thead th {\n",
       "        text-align: right;\n",
       "    }\n",
       "</style>\n",
       "<table border=\"1\" class=\"dataframe\">\n",
       "  <thead>\n",
       "    <tr style=\"text-align: right;\">\n",
       "      <th>embarked</th>\n",
       "      <th>C</th>\n",
       "      <th>Q</th>\n",
       "      <th>S</th>\n",
       "    </tr>\n",
       "    <tr>\n",
       "      <th>pclass</th>\n",
       "      <th></th>\n",
       "      <th></th>\n",
       "      <th></th>\n",
       "    </tr>\n",
       "  </thead>\n",
       "  <tbody>\n",
       "    <tr>\n",
       "      <th>1</th>\n",
       "      <td>0.439252</td>\n",
       "      <td>0.009346</td>\n",
       "      <td>0.551402</td>\n",
       "    </tr>\n",
       "    <tr>\n",
       "      <th>2</th>\n",
       "      <td>0.101083</td>\n",
       "      <td>0.025271</td>\n",
       "      <td>0.873646</td>\n",
       "    </tr>\n",
       "    <tr>\n",
       "      <th>3</th>\n",
       "      <td>0.142454</td>\n",
       "      <td>0.159379</td>\n",
       "      <td>0.698166</td>\n",
       "    </tr>\n",
       "  </tbody>\n",
       "</table>\n",
       "</div>"
      ],
      "text/plain": [
       "embarked         C         Q         S\n",
       "pclass                                \n",
       "1         0.439252  0.009346  0.551402\n",
       "2         0.101083  0.025271  0.873646\n",
       "3         0.142454  0.159379  0.698166"
      ]
     },
     "execution_count": 22,
     "metadata": {},
     "output_type": "execute_result"
    }
   ],
   "source": [
    "embarked_given_pclass.T"
   ]
  },
  {
   "cell_type": "markdown",
   "metadata": {
    "colab_type": "text",
    "id": "_YhwLN1AvHQM"
   },
   "source": [
    "Now, we can make a stacked bar graph from this _transposed_ `DataFrame`:"
   ]
  },
  {
   "cell_type": "code",
   "execution_count": 23,
   "metadata": {
    "colab": {},
    "colab_type": "code",
    "id": "yr59ZYx0vHQN"
   },
   "outputs": [
    {
     "data": {
      "text/plain": [
       "<AxesSubplot:xlabel='pclass'>"
      ]
     },
     "execution_count": 23,
     "metadata": {},
     "output_type": "execute_result"
    },
    {
     "data": {
      "image/png": "[encoded data removed]",
      "text/plain": [
       "<Figure size 432x288 with 1 Axes>"
      ]
     },
     "metadata": {
      "needs_background": "light"
     },
     "output_type": "display_data"
    }
   ],
   "source": [
    "(embarked_given_pclass.T).plot.bar(stacked=True)"
   ]
  },
  {
   "cell_type": "markdown",
   "metadata": {
    "colab_type": "text",
    "id": "P6IQG-kuvHQO"
   },
   "source": [
    "# Exercises"
   ]
  },
  {
   "cell_type": "markdown",
   "metadata": {
    "colab_type": "text",
    "id": "hEFn5-sJvHQP"
   },
   "source": [
    "Exercises 1-4 deal with the Tips data set (`tips.csv`)."
   ]
  },
  {
   "cell_type": "markdown",
   "metadata": {
    "colab_type": "text",
    "id": "jmTP6rMgvHQQ"
   },
   "source": [
    "**Exercise 1.** Make a visualization that displays the relationship between the day of the week and party size."
   ]
  },
  {
   "cell_type": "code",
   "execution_count": 24,
   "metadata": {
    "colab": {},
    "colab_type": "code",
    "id": "_Y2KZC3kvHQQ"
   },
   "outputs": [
    {
     "data": {
      "text/html": [
       "<div>\n",
       "<style scoped>\n",
       "    .dataframe tbody tr th:only-of-type {\n",
       "        vertical-align: middle;\n",
       "    }\n",
       "\n",
       "    .dataframe tbody tr th {\n",
       "        vertical-align: top;\n",
       "    }\n",
       "\n",
       "    .dataframe thead th {\n",
       "        text-align: right;\n",
       "    }\n",
       "</style>\n",
       "<table border=\"1\" class=\"dataframe\">\n",
       "  <thead>\n",
       "    <tr style=\"text-align: right;\">\n",
       "      <th></th>\n",
       "      <th>obs</th>\n",
       "      <th>totbill</th>\n",
       "      <th>tip</th>\n",
       "      <th>sex</th>\n",
       "      <th>smoker</th>\n",
       "      <th>day</th>\n",
       "      <th>time</th>\n",
       "      <th>size</th>\n",
       "    </tr>\n",
       "  </thead>\n",
       "  <tbody>\n",
       "    <tr>\n",
       "      <th>0</th>\n",
       "      <td>1</td>\n",
       "      <td>16.99</td>\n",
       "      <td>1.01</td>\n",
       "      <td>F</td>\n",
       "      <td>No</td>\n",
       "      <td>Sun</td>\n",
       "      <td>Night</td>\n",
       "      <td>2</td>\n",
       "    </tr>\n",
       "    <tr>\n",
       "      <th>1</th>\n",
       "      <td>2</td>\n",
       "      <td>10.34</td>\n",
       "      <td>1.66</td>\n",
       "      <td>M</td>\n",
       "      <td>No</td>\n",
       "      <td>Sun</td>\n",
       "      <td>Night</td>\n",
       "      <td>3</td>\n",
       "    </tr>\n",
       "    <tr>\n",
       "      <th>2</th>\n",
       "      <td>3</td>\n",
       "      <td>21.01</td>\n",
       "      <td>3.50</td>\n",
       "      <td>M</td>\n",
       "      <td>No</td>\n",
       "      <td>Sun</td>\n",
       "      <td>Night</td>\n",
       "      <td>3</td>\n",
       "    </tr>\n",
       "    <tr>\n",
       "      <th>3</th>\n",
       "      <td>4</td>\n",
       "      <td>23.68</td>\n",
       "      <td>3.31</td>\n",
       "      <td>M</td>\n",
       "      <td>No</td>\n",
       "      <td>Sun</td>\n",
       "      <td>Night</td>\n",
       "      <td>2</td>\n",
       "    </tr>\n",
       "    <tr>\n",
       "      <th>4</th>\n",
       "      <td>5</td>\n",
       "      <td>24.59</td>\n",
       "      <td>3.61</td>\n",
       "      <td>F</td>\n",
       "      <td>No</td>\n",
       "      <td>Sun</td>\n",
       "      <td>Night</td>\n",
       "      <td>4</td>\n",
       "    </tr>\n",
       "  </tbody>\n",
       "</table>\n",
       "</div>"
      ],
      "text/plain": [
       "   obs  totbill   tip sex smoker  day   time  size\n",
       "0    1    16.99  1.01   F     No  Sun  Night     2\n",
       "1    2    10.34  1.66   M     No  Sun  Night     3\n",
       "2    3    21.01  3.50   M     No  Sun  Night     3\n",
       "3    4    23.68  3.31   M     No  Sun  Night     2\n",
       "4    5    24.59  3.61   F     No  Sun  Night     4"
      ]
     },
     "execution_count": 24,
     "metadata": {},
     "output_type": "execute_result"
    }
   ],
   "source": [
    "# ENTER YOUR CODE HERE\n",
    "tips = pd.read_csv('tips.csv')\n",
    "tips.head()"
   ]
  },
  {
   "cell_type": "code",
   "execution_count": 25,
   "metadata": {},
   "outputs": [
    {
     "data": {
      "text/html": [
       "<div>\n",
       "<style scoped>\n",
       "    .dataframe tbody tr th:only-of-type {\n",
       "        vertical-align: middle;\n",
       "    }\n",
       "\n",
       "    .dataframe tbody tr th {\n",
       "        vertical-align: top;\n",
       "    }\n",
       "\n",
       "    .dataframe thead th {\n",
       "        text-align: right;\n",
       "    }\n",
       "</style>\n",
       "<table border=\"1\" class=\"dataframe\">\n",
       "  <thead>\n",
       "    <tr style=\"text-align: right;\">\n",
       "      <th>size</th>\n",
       "      <th>1</th>\n",
       "      <th>2</th>\n",
       "      <th>3</th>\n",
       "      <th>4</th>\n",
       "      <th>5</th>\n",
       "      <th>6</th>\n",
       "    </tr>\n",
       "    <tr>\n",
       "      <th>day</th>\n",
       "      <th></th>\n",
       "      <th></th>\n",
       "      <th></th>\n",
       "      <th></th>\n",
       "      <th></th>\n",
       "      <th></th>\n",
       "    </tr>\n",
       "  </thead>\n",
       "  <tbody>\n",
       "    <tr>\n",
       "      <th>Fri</th>\n",
       "      <td>1</td>\n",
       "      <td>16</td>\n",
       "      <td>1</td>\n",
       "      <td>1</td>\n",
       "      <td>0</td>\n",
       "      <td>0</td>\n",
       "    </tr>\n",
       "    <tr>\n",
       "      <th>Sat</th>\n",
       "      <td>2</td>\n",
       "      <td>53</td>\n",
       "      <td>18</td>\n",
       "      <td>13</td>\n",
       "      <td>1</td>\n",
       "      <td>0</td>\n",
       "    </tr>\n",
       "    <tr>\n",
       "      <th>Sun</th>\n",
       "      <td>0</td>\n",
       "      <td>39</td>\n",
       "      <td>15</td>\n",
       "      <td>18</td>\n",
       "      <td>3</td>\n",
       "      <td>1</td>\n",
       "    </tr>\n",
       "    <tr>\n",
       "      <th>Thu</th>\n",
       "      <td>1</td>\n",
       "      <td>48</td>\n",
       "      <td>4</td>\n",
       "      <td>5</td>\n",
       "      <td>1</td>\n",
       "      <td>3</td>\n",
       "    </tr>\n",
       "  </tbody>\n",
       "</table>\n",
       "</div>"
      ],
      "text/plain": [
       "size  1   2   3   4  5  6\n",
       "day                      \n",
       "Fri   1  16   1   1  0  0\n",
       "Sat   2  53  18  13  1  0\n",
       "Sun   0  39  15  18  3  1\n",
       "Thu   1  48   4   5  1  3"
      ]
     },
     "execution_count": 25,
     "metadata": {},
     "output_type": "execute_result"
    }
   ],
   "source": [
    "day_party_size = pd.crosstab(tips['day'], tips['size'])\n",
    "day_party_size"
   ]
  },
  {
   "cell_type": "code",
   "execution_count": 26,
   "metadata": {},
   "outputs": [
    {
     "data": {
      "text/plain": [
       "<AxesSubplot:xlabel='day'>"
      ]
     },
     "execution_count": 26,
     "metadata": {},
     "output_type": "execute_result"
    },
    {
     "data": {
      "image/png": "[encoded data removed]",
      "text/plain": [
       "<Figure size 432x288 with 1 Axes>"
      ]
     },
     "metadata": {
      "needs_background": "light"
     },
     "output_type": "display_data"
    }
   ],
   "source": [
    "day_party_size.plot.bar(stacked=True)"
   ]
  },
  {
   "cell_type": "markdown",
   "metadata": {
    "colab_type": "text",
    "id": "5d3Z44GTvHQS"
   },
   "source": [
    "**Exercise 2.** Calculate the marginal distribution of day of week in two different ways."
   ]
  },
  {
   "cell_type": "code",
   "execution_count": 27,
   "metadata": {
    "colab": {},
    "colab_type": "code",
    "id": "TYCCtkzHvHQT"
   },
   "outputs": [
    {
     "data": {
      "text/html": [
       "<div>\n",
       "<style scoped>\n",
       "    .dataframe tbody tr th:only-of-type {\n",
       "        vertical-align: middle;\n",
       "    }\n",
       "\n",
       "    .dataframe tbody tr th {\n",
       "        vertical-align: top;\n",
       "    }\n",
       "\n",
       "    .dataframe thead th {\n",
       "        text-align: right;\n",
       "    }\n",
       "</style>\n",
       "<table border=\"1\" class=\"dataframe\">\n",
       "  <thead>\n",
       "    <tr style=\"text-align: right;\">\n",
       "      <th>size</th>\n",
       "      <th>1</th>\n",
       "      <th>2</th>\n",
       "      <th>3</th>\n",
       "      <th>4</th>\n",
       "      <th>5</th>\n",
       "      <th>6</th>\n",
       "    </tr>\n",
       "    <tr>\n",
       "      <th>day</th>\n",
       "      <th></th>\n",
       "      <th></th>\n",
       "      <th></th>\n",
       "      <th></th>\n",
       "      <th></th>\n",
       "      <th></th>\n",
       "    </tr>\n",
       "  </thead>\n",
       "  <tbody>\n",
       "    <tr>\n",
       "      <th>Fri</th>\n",
       "      <td>0.004098</td>\n",
       "      <td>0.065574</td>\n",
       "      <td>0.004098</td>\n",
       "      <td>0.004098</td>\n",
       "      <td>0.000000</td>\n",
       "      <td>0.000000</td>\n",
       "    </tr>\n",
       "    <tr>\n",
       "      <th>Sat</th>\n",
       "      <td>0.008197</td>\n",
       "      <td>0.217213</td>\n",
       "      <td>0.073770</td>\n",
       "      <td>0.053279</td>\n",
       "      <td>0.004098</td>\n",
       "      <td>0.000000</td>\n",
       "    </tr>\n",
       "    <tr>\n",
       "      <th>Sun</th>\n",
       "      <td>0.000000</td>\n",
       "      <td>0.159836</td>\n",
       "      <td>0.061475</td>\n",
       "      <td>0.073770</td>\n",
       "      <td>0.012295</td>\n",
       "      <td>0.004098</td>\n",
       "    </tr>\n",
       "    <tr>\n",
       "      <th>Thu</th>\n",
       "      <td>0.004098</td>\n",
       "      <td>0.196721</td>\n",
       "      <td>0.016393</td>\n",
       "      <td>0.020492</td>\n",
       "      <td>0.004098</td>\n",
       "      <td>0.012295</td>\n",
       "    </tr>\n",
       "  </tbody>\n",
       "</table>\n",
       "</div>"
      ],
      "text/plain": [
       "size         1         2         3         4         5         6\n",
       "day                                                             \n",
       "Fri   0.004098  0.065574  0.004098  0.004098  0.000000  0.000000\n",
       "Sat   0.008197  0.217213  0.073770  0.053279  0.004098  0.000000\n",
       "Sun   0.000000  0.159836  0.061475  0.073770  0.012295  0.004098\n",
       "Thu   0.004098  0.196721  0.016393  0.020492  0.004098  0.012295"
      ]
     },
     "execution_count": 27,
     "metadata": {},
     "output_type": "execute_result"
    }
   ],
   "source": [
    "# ENTER YOUR CODE HERE\n",
    "joint = day_party_size / day_party_size.sum().sum()\n",
    "joint "
   ]
  },
  {
   "cell_type": "code",
   "execution_count": 28,
   "metadata": {},
   "outputs": [
    {
     "data": {
      "text/plain": [
       "day\n",
       "Fri    0.077869\n",
       "Sat    0.356557\n",
       "Sun    0.311475\n",
       "Thu    0.254098\n",
       "dtype: float64"
      ]
     },
     "execution_count": 28,
     "metadata": {},
     "output_type": "execute_result"
    }
   ],
   "source": [
    "joint.sum(axis=1)"
   ]
  },
  {
   "cell_type": "code",
   "execution_count": 29,
   "metadata": {},
   "outputs": [
    {
     "data": {
      "text/plain": [
       "day\n",
       "Fri    0.077869\n",
       "Sat    0.356557\n",
       "Sun    0.311475\n",
       "Thu    0.254098\n",
       "Name: size, dtype: float64"
      ]
     },
     "execution_count": 29,
     "metadata": {},
     "output_type": "execute_result"
    }
   ],
   "source": [
    "# second way\n",
    "day_count = tips.groupby('day')['size'].count()\n",
    "day_count / day_count.sum()"
   ]
  },
  {
   "cell_type": "code",
   "execution_count": 30,
   "metadata": {},
   "outputs": [
    {
     "data": {
      "text/html": [
       "<div>\n",
       "<style scoped>\n",
       "    .dataframe tbody tr th:only-of-type {\n",
       "        vertical-align: middle;\n",
       "    }\n",
       "\n",
       "    .dataframe tbody tr th {\n",
       "        vertical-align: top;\n",
       "    }\n",
       "\n",
       "    .dataframe thead th {\n",
       "        text-align: right;\n",
       "    }\n",
       "</style>\n",
       "<table border=\"1\" class=\"dataframe\">\n",
       "  <thead>\n",
       "    <tr style=\"text-align: right;\">\n",
       "      <th>size</th>\n",
       "      <th>1</th>\n",
       "      <th>2</th>\n",
       "      <th>3</th>\n",
       "      <th>4</th>\n",
       "      <th>5</th>\n",
       "      <th>6</th>\n",
       "      <th>All</th>\n",
       "    </tr>\n",
       "    <tr>\n",
       "      <th>day</th>\n",
       "      <th></th>\n",
       "      <th></th>\n",
       "      <th></th>\n",
       "      <th></th>\n",
       "      <th></th>\n",
       "      <th></th>\n",
       "      <th></th>\n",
       "    </tr>\n",
       "  </thead>\n",
       "  <tbody>\n",
       "    <tr>\n",
       "      <th>Fri</th>\n",
       "      <td>0.004098</td>\n",
       "      <td>0.065574</td>\n",
       "      <td>0.004098</td>\n",
       "      <td>0.004098</td>\n",
       "      <td>0.000000</td>\n",
       "      <td>0.000000</td>\n",
       "      <td>0.077869</td>\n",
       "    </tr>\n",
       "    <tr>\n",
       "      <th>Sat</th>\n",
       "      <td>0.008197</td>\n",
       "      <td>0.217213</td>\n",
       "      <td>0.073770</td>\n",
       "      <td>0.053279</td>\n",
       "      <td>0.004098</td>\n",
       "      <td>0.000000</td>\n",
       "      <td>0.356557</td>\n",
       "    </tr>\n",
       "    <tr>\n",
       "      <th>Sun</th>\n",
       "      <td>0.000000</td>\n",
       "      <td>0.159836</td>\n",
       "      <td>0.061475</td>\n",
       "      <td>0.073770</td>\n",
       "      <td>0.012295</td>\n",
       "      <td>0.004098</td>\n",
       "      <td>0.311475</td>\n",
       "    </tr>\n",
       "    <tr>\n",
       "      <th>Thu</th>\n",
       "      <td>0.004098</td>\n",
       "      <td>0.196721</td>\n",
       "      <td>0.016393</td>\n",
       "      <td>0.020492</td>\n",
       "      <td>0.004098</td>\n",
       "      <td>0.012295</td>\n",
       "      <td>0.254098</td>\n",
       "    </tr>\n",
       "    <tr>\n",
       "      <th>All</th>\n",
       "      <td>0.016393</td>\n",
       "      <td>0.639344</td>\n",
       "      <td>0.155738</td>\n",
       "      <td>0.151639</td>\n",
       "      <td>0.020492</td>\n",
       "      <td>0.016393</td>\n",
       "      <td>1.000000</td>\n",
       "    </tr>\n",
       "  </tbody>\n",
       "</table>\n",
       "</div>"
      ],
      "text/plain": [
       "size         1         2         3         4         5         6       All\n",
       "day                                                                       \n",
       "Fri   0.004098  0.065574  0.004098  0.004098  0.000000  0.000000  0.077869\n",
       "Sat   0.008197  0.217213  0.073770  0.053279  0.004098  0.000000  0.356557\n",
       "Sun   0.000000  0.159836  0.061475  0.073770  0.012295  0.004098  0.311475\n",
       "Thu   0.004098  0.196721  0.016393  0.020492  0.004098  0.012295  0.254098\n",
       "All   0.016393  0.639344  0.155738  0.151639  0.020492  0.016393  1.000000"
      ]
     },
     "execution_count": 30,
     "metadata": {},
     "output_type": "execute_result"
    }
   ],
   "source": [
    "pd.crosstab(tips['day'], tips['size'], normalize=True, margins=True)"
   ]
  },
  {
   "cell_type": "markdown",
   "metadata": {
    "colab_type": "text",
    "id": "eR3nwCyBvHQV"
   },
   "source": [
    "**Exercise 3.** Make a visualization that displays the conditional distribution of party size, given the day of the week."
   ]
  },
  {
   "cell_type": "code",
   "execution_count": 31,
   "metadata": {
    "colab": {},
    "colab_type": "code",
    "id": "fN_DJdv_vHQV"
   },
   "outputs": [
    {
     "data": {
      "text/plain": [
       "day\n",
       "Fri    19\n",
       "Sat    87\n",
       "Sun    76\n",
       "Thu    62\n",
       "dtype: int64"
      ]
     },
     "execution_count": 31,
     "metadata": {},
     "output_type": "execute_result"
    }
   ],
   "source": [
    "# ENTER YOUR CODE HERE\n",
    "\n",
    "day_count = day_party_size.sum(axis=1)\n",
    "day_count"
   ]
  },
  {
   "cell_type": "code",
   "execution_count": 32,
   "metadata": {},
   "outputs": [
    {
     "data": {
      "text/html": [
       "<div>\n",
       "<style scoped>\n",
       "    .dataframe tbody tr th:only-of-type {\n",
       "        vertical-align: middle;\n",
       "    }\n",
       "\n",
       "    .dataframe tbody tr th {\n",
       "        vertical-align: top;\n",
       "    }\n",
       "\n",
       "    .dataframe thead th {\n",
       "        text-align: right;\n",
       "    }\n",
       "</style>\n",
       "<table border=\"1\" class=\"dataframe\">\n",
       "  <thead>\n",
       "    <tr style=\"text-align: right;\">\n",
       "      <th>size</th>\n",
       "      <th>1</th>\n",
       "      <th>2</th>\n",
       "      <th>3</th>\n",
       "      <th>4</th>\n",
       "      <th>5</th>\n",
       "      <th>6</th>\n",
       "    </tr>\n",
       "    <tr>\n",
       "      <th>day</th>\n",
       "      <th></th>\n",
       "      <th></th>\n",
       "      <th></th>\n",
       "      <th></th>\n",
       "      <th></th>\n",
       "      <th></th>\n",
       "    </tr>\n",
       "  </thead>\n",
       "  <tbody>\n",
       "    <tr>\n",
       "      <th>Fri</th>\n",
       "      <td>0.052632</td>\n",
       "      <td>0.842105</td>\n",
       "      <td>0.052632</td>\n",
       "      <td>0.052632</td>\n",
       "      <td>0.000000</td>\n",
       "      <td>0.000000</td>\n",
       "    </tr>\n",
       "    <tr>\n",
       "      <th>Sat</th>\n",
       "      <td>0.022989</td>\n",
       "      <td>0.609195</td>\n",
       "      <td>0.206897</td>\n",
       "      <td>0.149425</td>\n",
       "      <td>0.011494</td>\n",
       "      <td>0.000000</td>\n",
       "    </tr>\n",
       "    <tr>\n",
       "      <th>Sun</th>\n",
       "      <td>0.000000</td>\n",
       "      <td>0.513158</td>\n",
       "      <td>0.197368</td>\n",
       "      <td>0.236842</td>\n",
       "      <td>0.039474</td>\n",
       "      <td>0.013158</td>\n",
       "    </tr>\n",
       "    <tr>\n",
       "      <th>Thu</th>\n",
       "      <td>0.016129</td>\n",
       "      <td>0.774194</td>\n",
       "      <td>0.064516</td>\n",
       "      <td>0.080645</td>\n",
       "      <td>0.016129</td>\n",
       "      <td>0.048387</td>\n",
       "    </tr>\n",
       "  </tbody>\n",
       "</table>\n",
       "</div>"
      ],
      "text/plain": [
       "size         1         2         3         4         5         6\n",
       "day                                                             \n",
       "Fri   0.052632  0.842105  0.052632  0.052632  0.000000  0.000000\n",
       "Sat   0.022989  0.609195  0.206897  0.149425  0.011494  0.000000\n",
       "Sun   0.000000  0.513158  0.197368  0.236842  0.039474  0.013158\n",
       "Thu   0.016129  0.774194  0.064516  0.080645  0.016129  0.048387"
      ]
     },
     "execution_count": 32,
     "metadata": {},
     "output_type": "execute_result"
    }
   ],
   "source": [
    "size_given_day = day_party_size.divide(day_count, axis=0)\n",
    "size_given_day"
   ]
  },
  {
   "cell_type": "code",
   "execution_count": 33,
   "metadata": {},
   "outputs": [
    {
     "data": {
      "text/plain": [
       "<AxesSubplot:xlabel='day'>"
      ]
     },
     "execution_count": 33,
     "metadata": {},
     "output_type": "execute_result"
    },
    {
     "data": {
      "image/png": "[encoded data removed]",
      "text/plain": [
       "<Figure size 432x288 with 1 Axes>"
      ]
     },
     "metadata": {
      "needs_background": "light"
     },
     "output_type": "display_data"
    }
   ],
   "source": [
    "size_given_day.plot.bar(stacked=True)"
   ]
  },
  {
   "cell_type": "code",
   "execution_count": 39,
   "metadata": {},
   "outputs": [
    {
     "data": {
      "text/html": [
       "<div>\n",
       "<style scoped>\n",
       "    .dataframe tbody tr th:only-of-type {\n",
       "        vertical-align: middle;\n",
       "    }\n",
       "\n",
       "    .dataframe tbody tr th {\n",
       "        vertical-align: top;\n",
       "    }\n",
       "\n",
       "    .dataframe thead th {\n",
       "        text-align: right;\n",
       "    }\n",
       "</style>\n",
       "<table border=\"1\" class=\"dataframe\">\n",
       "  <thead>\n",
       "    <tr style=\"text-align: right;\">\n",
       "      <th>size</th>\n",
       "      <th>1</th>\n",
       "      <th>2</th>\n",
       "      <th>3</th>\n",
       "      <th>4</th>\n",
       "      <th>5</th>\n",
       "      <th>6</th>\n",
       "    </tr>\n",
       "    <tr>\n",
       "      <th>day</th>\n",
       "      <th></th>\n",
       "      <th></th>\n",
       "      <th></th>\n",
       "      <th></th>\n",
       "      <th></th>\n",
       "      <th></th>\n",
       "    </tr>\n",
       "  </thead>\n",
       "  <tbody>\n",
       "    <tr>\n",
       "      <th>Fri</th>\n",
       "      <td>0.052632</td>\n",
       "      <td>0.842105</td>\n",
       "      <td>0.052632</td>\n",
       "      <td>0.052632</td>\n",
       "      <td>0.000000</td>\n",
       "      <td>0.000000</td>\n",
       "    </tr>\n",
       "    <tr>\n",
       "      <th>Sat</th>\n",
       "      <td>0.022989</td>\n",
       "      <td>0.609195</td>\n",
       "      <td>0.206897</td>\n",
       "      <td>0.149425</td>\n",
       "      <td>0.011494</td>\n",
       "      <td>0.000000</td>\n",
       "    </tr>\n",
       "    <tr>\n",
       "      <th>Sun</th>\n",
       "      <td>0.000000</td>\n",
       "      <td>0.513158</td>\n",
       "      <td>0.197368</td>\n",
       "      <td>0.236842</td>\n",
       "      <td>0.039474</td>\n",
       "      <td>0.013158</td>\n",
       "    </tr>\n",
       "    <tr>\n",
       "      <th>Thu</th>\n",
       "      <td>0.016129</td>\n",
       "      <td>0.774194</td>\n",
       "      <td>0.064516</td>\n",
       "      <td>0.080645</td>\n",
       "      <td>0.016129</td>\n",
       "      <td>0.048387</td>\n",
       "    </tr>\n",
       "  </tbody>\n",
       "</table>\n",
       "</div>"
      ],
      "text/plain": [
       "size         1         2         3         4         5         6\n",
       "day                                                             \n",
       "Fri   0.052632  0.842105  0.052632  0.052632  0.000000  0.000000\n",
       "Sat   0.022989  0.609195  0.206897  0.149425  0.011494  0.000000\n",
       "Sun   0.000000  0.513158  0.197368  0.236842  0.039474  0.013158\n",
       "Thu   0.016129  0.774194  0.064516  0.080645  0.016129  0.048387"
      ]
     },
     "execution_count": 39,
     "metadata": {},
     "output_type": "execute_result"
    }
   ],
   "source": [
    "pd.crosstab(tips['size'], tips['day'], normalize='columns').T"
   ]
  },
  {
   "cell_type": "code",
   "execution_count": 35,
   "metadata": {},
   "outputs": [
    {
     "data": {
      "text/plain": [
       "size\n",
       "1      4\n",
       "2    156\n",
       "3     38\n",
       "4     37\n",
       "5      5\n",
       "6      4\n",
       "dtype: int64"
      ]
     },
     "execution_count": 35,
     "metadata": {},
     "output_type": "execute_result"
    }
   ],
   "source": [
    "party_count = day_party_size.sum(axis=0)\n",
    "party_count"
   ]
  },
  {
   "cell_type": "code",
   "execution_count": 36,
   "metadata": {},
   "outputs": [
    {
     "data": {
      "text/html": [
       "<div>\n",
       "<style scoped>\n",
       "    .dataframe tbody tr th:only-of-type {\n",
       "        vertical-align: middle;\n",
       "    }\n",
       "\n",
       "    .dataframe tbody tr th {\n",
       "        vertical-align: top;\n",
       "    }\n",
       "\n",
       "    .dataframe thead th {\n",
       "        text-align: right;\n",
       "    }\n",
       "</style>\n",
       "<table border=\"1\" class=\"dataframe\">\n",
       "  <thead>\n",
       "    <tr style=\"text-align: right;\">\n",
       "      <th>size</th>\n",
       "      <th>1</th>\n",
       "      <th>2</th>\n",
       "      <th>3</th>\n",
       "      <th>4</th>\n",
       "      <th>5</th>\n",
       "      <th>6</th>\n",
       "    </tr>\n",
       "    <tr>\n",
       "      <th>day</th>\n",
       "      <th></th>\n",
       "      <th></th>\n",
       "      <th></th>\n",
       "      <th></th>\n",
       "      <th></th>\n",
       "      <th></th>\n",
       "    </tr>\n",
       "  </thead>\n",
       "  <tbody>\n",
       "    <tr>\n",
       "      <th>Fri</th>\n",
       "      <td>0.25</td>\n",
       "      <td>0.102564</td>\n",
       "      <td>0.026316</td>\n",
       "      <td>0.027027</td>\n",
       "      <td>0.0</td>\n",
       "      <td>0.00</td>\n",
       "    </tr>\n",
       "    <tr>\n",
       "      <th>Sat</th>\n",
       "      <td>0.50</td>\n",
       "      <td>0.339744</td>\n",
       "      <td>0.473684</td>\n",
       "      <td>0.351351</td>\n",
       "      <td>0.2</td>\n",
       "      <td>0.00</td>\n",
       "    </tr>\n",
       "    <tr>\n",
       "      <th>Sun</th>\n",
       "      <td>0.00</td>\n",
       "      <td>0.250000</td>\n",
       "      <td>0.394737</td>\n",
       "      <td>0.486486</td>\n",
       "      <td>0.6</td>\n",
       "      <td>0.25</td>\n",
       "    </tr>\n",
       "    <tr>\n",
       "      <th>Thu</th>\n",
       "      <td>0.25</td>\n",
       "      <td>0.307692</td>\n",
       "      <td>0.105263</td>\n",
       "      <td>0.135135</td>\n",
       "      <td>0.2</td>\n",
       "      <td>0.75</td>\n",
       "    </tr>\n",
       "  </tbody>\n",
       "</table>\n",
       "</div>"
      ],
      "text/plain": [
       "size     1         2         3         4    5     6\n",
       "day                                                \n",
       "Fri   0.25  0.102564  0.026316  0.027027  0.0  0.00\n",
       "Sat   0.50  0.339744  0.473684  0.351351  0.2  0.00\n",
       "Sun   0.00  0.250000  0.394737  0.486486  0.6  0.25\n",
       "Thu   0.25  0.307692  0.105263  0.135135  0.2  0.75"
      ]
     },
     "execution_count": 36,
     "metadata": {},
     "output_type": "execute_result"
    }
   ],
   "source": [
    "day_party_size.divide(party_count, axis=1)"
   ]
  },
  {
   "cell_type": "markdown",
   "metadata": {
    "colab_type": "text",
    "id": "0pwVqQlpvHQX"
   },
   "source": [
    "**Exercise 4.** What proportion of Saturday parties had 2 people? Is this the same as the proportion of 2-person parties that dined on Saturday?"
   ]
  },
  {
   "cell_type": "code",
   "execution_count": 37,
   "metadata": {
    "colab": {},
    "colab_type": "code",
    "id": "3CejeBq3vHQX"
   },
   "outputs": [
    {
     "name": "stdout",
     "output_type": "stream",
     "text": [
      "0.33974358974358976\n",
      "0.6091954022988506\n"
     ]
    }
   ],
   "source": [
    "# ENTER YOUR CODE HERE\n",
    "size_given_day = pd.crosstab(tips['day'], tips['size'])\n",
    "\n",
    "# P(Sat | 2) = number of parties that had 2 people on saturday / number of two person parties\n",
    "satPartyTwo = (size_given_day.at[\"Sat\", 2] / size_given_day[2].sum())\n",
    "print(satPartyTwo)\n",
    "\n",
    "# P(2 | Sat) = number of parties on saturday that had 2 people / number of parties on saturday\n",
    "twoPersonSat = (size_given_day.at[\"Sat\", 2] / size_given_day.loc[\"Sat\"].sum())\n",
    "print(twoPersonSat)\n"
   ]
  },
  {
   "cell_type": "markdown",
   "metadata": {},
   "source": [
    "The proportion of Saturday parties that had 2 people was  0.3397 and the proportion of 2 person parties that dined on Saturday was 0.6091. So the two proportions were different. "
   ]
  }
 ],
 "metadata": {
  "colab": {
   "name": "3A Relationships between Categorical Variables.ipynb",
   "provenance": []
  },
  "kernelspec": {
   "display_name": "Python 3 (ipykernel)",
   "language": "python",
   "name": "python3"
  },
  "language_info": {
   "codemirror_mode": {
    "name": "ipython",
    "version": 3
   },
   "file_extension": ".py",
   "mimetype": "text/x-python",
   "name": "python",
   "nbconvert_exporter": "python",
   "pygments_lexer": "ipython3",
   "version": "3.9.12"
  }
 },
 "nbformat": 4,
 "nbformat_minor": 4
}
